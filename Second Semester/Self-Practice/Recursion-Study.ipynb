{
 "cells": [
  {
   "cell_type": "markdown",
   "metadata": {},
   "source": [
    "<h1> <b>Recursion Study</b></h1>\n",
    "\n",
    "In programming, recursion is a technique for solving problems where **a function calls itself with a smaller version of the same problem.** This allows the function to repeat itself until it reaches a base case, which is a specific set of conditions under which the function will not call itself again.\n",
    "\n",
    "For example, consider the following function that calculates the factorial of a given number:\n",
    "\n",
    "<code>\n",
    "def factorial(n):\n",
    "    if n == 1:\n",
    "        return 1\n",
    "    else:\n",
    "        return n * factorial(n-1)\n",
    "\n",
    "factorial(10)\n",
    "</code>\n",
    "\n",
    "This function uses recursion to calculate the factorial of a number by calling itself repeatedly with a smaller version of the same problem. The base case is when n is equal to 1, in which case the function returns 1 without making any further recursive calls.\n",
    "\n",
    "Recursion can be a powerful tool for solving certain types of problems, but it is important to carefully design the base case and the recursive steps to avoid infinite recursion."
   ]
  },
  {
   "cell_type": "markdown",
   "metadata": {},
   "source": [
    "<h2>Steps in creating a recursion</h2>\n",
    "\n",
    "1. **Identify the base case:** The first step in writing a recursive function is to identify the base case, which is the specific set of conditions under which the function will not make any further recursive calls. The base case serves as a stopping point for the recursion and allows the function to terminate and return a result.\n",
    "\n",
    "2. **Define the recursive case:** Once you have identified the base case, you can define the recursive case, which is the set of conditions under which the function will call itself with a smaller version of the same problem.\n",
    "\n",
    "3. **Divide the problem into smaller subproblems:** To solve the problem using recursion, you need to divide it into smaller subproblems that can be solved recursively. These subproblems should be similar to the original problem, but with a smaller size or complexity.\n",
    "\n",
    "4. **Solve the smaller subproblems recursively:** For each subproblem, the function should call itself recursively with the smaller version of the same problem. This process will continue until the base case is reached, at which point the function will begin to return results and work its way back up the recursive chain.\n",
    "\n",
    "5. **Combine the results:** Once the function has returned a result for each subproblem, it can combine these results to solve the original problem.\n",
    "\n",
    "It is important to carefully design the base case and the recursive steps to ensure that the function terminates and returns the correct result. It is also important to consider the performance of the recursive function, as recursive algorithms can be more computationally expensive and may take up more memory compared to their iterative counterparts."
   ]
  },
  {
   "cell_type": "markdown",
   "metadata": {},
   "source": [
    "<h2>Sample Problems</h2>\n",
    "\n",
    "<h3>Factorial</h3>\n",
    "Write a recursive function that given an input <i>n</i> sums all the nonnegative integers up to <i>n</i>"
   ]
  },
  {
   "cell_type": "code",
   "execution_count": 10,
   "metadata": {},
   "outputs": [
    {
     "data": {
      "text/plain": [
       "0"
      ]
     },
     "execution_count": 10,
     "metadata": {},
     "output_type": "execute_result"
    }
   ],
   "source": [
    "def factorial(n):\n",
    "    if n == 1: # Base Case\n",
    "        return 0\n",
    "    else:\n",
    "        return n * factorial(n-1)\n",
    "\n",
    "factorial(10)"
   ]
  },
  {
   "cell_type": "markdown",
   "metadata": {},
   "source": [
    "In creating a recursion it is important to create a base case where we will give an explicit answer. The base case is where the recursion ends."
   ]
  },
  {
   "cell_type": "markdown",
   "metadata": {},
   "source": []
  }
 ],
 "metadata": {
  "kernelspec": {
   "display_name": "Python 3 (ipykernel)",
   "language": "python",
   "name": "python3"
  },
  "language_info": {
   "codemirror_mode": {
    "name": "ipython",
    "version": 3
   },
   "file_extension": ".py",
   "mimetype": "text/x-python",
   "name": "python",
   "nbconvert_exporter": "python",
   "pygments_lexer": "ipython3",
   "version": "3.10.6 (tags/v3.10.6:9c7b4bd, Aug  1 2022, 21:53:49) [MSC v.1932 64 bit (AMD64)]"
  },
  "vscode": {
   "interpreter": {
    "hash": "52634da84371cba311ea128a5ea7cdc41ff074b781779e754b270ff9f8153cee"
   }
  }
 },
 "nbformat": 4,
 "nbformat_minor": 2
}
